{
 "cells": [
  {
   "cell_type": "markdown",
   "metadata": {},
   "source": [
    "# Learn Python\n",
    "\n",
    "A short guide & resources for learning Python\n",
    "\n",
    "### Essentials\n",
    "\n",
    "- [Installing python packages with pip](https://packaging.python.org/tutorials/installing-packages/)\n",
    "- [Virtual environments](http://www.pythonforbeginners.com/basics/how-to-use-python-virtualenv/)\n",
    "\n",
    "- Activate python REPL in a terminal: `python`\n",
    "- Check your python version: `python --version`\n",
    "- Check your pip version: `pip --version`\n",
    "\n",
    "\n",
    "\n",
    "### Resources\n",
    "\n",
    "- [Python Cheat Sheet - bookmark this!](https://learnxinyminutes.com/docs/python3/)\n",
    "- [Juptyer tutorial](https://www.datacamp.com/community/tutorials/tutorial-jupyter-notebook)\n",
    "- [Big pile of Jupyter notebooks related to data science](https://github.com/donnemartin/data-science-ipython-notebooks)\n",
    "- [Video tutorials by Sentdex](https://www.youtube.com/user/sentdex/playlists?shelf_id=7&sort=dd&view=50)\n",
    "- [Some code exercises to practice](http://www.pythonsandladders.com/)\n",
    "- [Automate the boring stuff - longer tutorial/course](https://automatetheboringstuff.com/)\n",
    "\n"
   ]
  },
  {
   "cell_type": "markdown",
   "metadata": {},
   "source": [
    "### Your stuff goes here!"
   ]
  },
  {
   "cell_type": "code",
   "execution_count": null,
   "metadata": {},
   "outputs": [],
   "source": []
  }
 ],
 "metadata": {
  "kernelspec": {
   "display_name": "Python 3",
   "language": "python",
   "name": "python3"
  },
  "language_info": {
   "codemirror_mode": {
    "name": "ipython",
    "version": 3
   },
   "file_extension": ".py",
   "mimetype": "text/x-python",
   "name": "python",
   "nbconvert_exporter": "python",
   "pygments_lexer": "ipython3",
   "version": "3.6.4"
  }
 },
 "nbformat": 4,
 "nbformat_minor": 2
}
